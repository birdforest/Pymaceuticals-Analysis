


# Dependencies and Setup
import matplotlib.pyplot as plt
import pandas as pd
import scipy.stats as st

# Study data files
mouse_metadata_path = "data/Mouse_metadata.csv"
study_results_path = "data/Study_results.csv"

# Read the mouse data and the study results
mouse_metadata = pd.read_csv(mouse_metadata_path)
study_results = pd.read_csv(study_results_path)

# Combine the data into a single DataFrame
# how='left' uses the index sequence from "study_results"
merged_df = pd.merge(study_results, mouse_metadata, how='left', on='Mouse ID')

# Display the data table for preview
merged_df.head()


# Checking the number of mice.
number_mice = merged_df['Mouse ID'].nunique()
number_mice


# Our data should be uniquely identified by Mouse ID and Timepoint
# Get the duplicate mice by ID number that shows up for Mouse ID and Timepoint. 

# every duplicate combination of "Mouse ID" and "Timepoint" is identified
# extract the unique values of 'Mouse ID' from the filtered DataFrame
duplicate_mice = merged_df[merged_df.duplicated(subset=['Mouse ID','Timepoint'], keep=False)]['Mouse ID'].unique()
duplicate_mice


# Optional: Get all the data for the duplicate mouse ID. 

# Filter duplicate mouse data & select rows with duplicate mouse IDs
duplicate_mouse_data = merged_df[merged_df['Mouse ID'].isin(duplicate_mice)]
duplicate_mouse_data


# Create a clean DataFrame by dropping the duplicate mouse by its ID.

# Filter out the duplicate mouse data and create a clean DataFrame
cleaned_df = merged_df[merged_df['Mouse ID'] != 'g989']
cleaned_df.head()


# Checking the number of mice in the clean DataFrame.
cleaned_number_mice = cleaned_df['Mouse ID'].nunique()
cleaned_number_mice





# Generate a summary statistics table of mean, median, variance, standard deviation, and SEM of the tumor volume for each regimen

# Use groupby and summary statistical methods to calculate the following properties of each drug regimen:
summary_stats = merged_df.groupby('Drug Regimen')['Tumor Volume (mm3)'].agg(['mean','median','var','std','sem'])
# mean, median, variance, standard deviation, and SEM of the tumor volume.
summary_stats.columns = ['Mean Tumor Volume', 'Median Tumor Volume', 'Tumor Volume Variance','Tumor Volume Std. Dev.', 'Tumor Volume Std. Err.']
# Assemble the resulting series into a single summary DataFrame.
summary_stats


# A more advanced method to generate a summary statistics table of mean, median, variance, standard deviation,
# and SEM of the tumor volume for each regimen (only one method is required in the solution)
# Using the aggregation method, produce the same summary statistics in a single line

summary_stats_advanced = merged_df.groupby('Drug Regimen').agg({'Tumor Volume (mm3)': ['mean', 'median', 'var', 'std', 'sem']})

summary_stats_advanced





# Generate a bar plot showing the total number of rows (Mouse ID/Timepoints) for each drug regimen using Pandas.
drug_counts = merged_df['Drug Regimen'].value_counts()
# Adjust the transparency of bar colors to personal preference
# Apply alpha to adjust the transparency
drug_counts.plot(kind='bar', color='darkblue', alpha= 0.7, figsize=(7, 5))

plt.xlabel('Drug Regiman')
plt.ylabel('# of Observed Mouse Timepoints')
plt.title('# of rows (Mouse ID/Timepoints) per drug regimen')

plt.show()


# Generate a bar plot showing the total number of rows (Mouse ID/Timepoints) for each drug regimen using pyplot.
# Calculate the count by Drug Specimen
drug_regimen_counts = merged_df['Drug Regimen'].value_counts()

plt.figure(figsize=(9, 7))
plt.bar(drug_regimen_counts.index, drug_regimen_counts.values, color = 'blue')
plt.xlabel('Drug Regimen')
plt.ylabel('# of Observed Mouse Timepoints')
plt.title('Total Number of Rows per Drug Regimen')

# Adjust X-axis Tick Label by 90 degrees like the output solution
plt.xticks(rotation=90, ha='right')

plt.show


# Generate a pie plot showing the distribution of female versus male mice using Pandas

# Calculate the gender distribution
gender_distribution = merged_df['Sex'].value_counts()

# Use plot function in Pandas
gender_distribution.plot(kind='pie', autopct='%1.1f%%', colors=['blue', 'orange'], figsize=(6,6))
# Ensure the ratio of the pie chart is equal, resulting in a circular shape
plt.axis('equal')

# plt.legend(labels=['Male', 'Female'])
plt.ylabel('Sex')
plt.show()


# Generate a pie plot showing the distribution of female versus male mice using pyplot
gender_distribution = merged_df['Sex'].value_counts()

# Use plt function in Matplotlib's pyplot
plt.figure(figsize=(6,6))
plt.pie(gender_distribution, labels=gender_distribution.index, autopct='%1.1f%%', colors=['blue', 'orange'])

plt.ylabel('Sex')

plt.show()





# Calculate the final tumor volume of each mouse across four of the treatment regimens:  

max_timepoint_per_mouse = merged_df.groupby('Mouse ID')['Timepoint'].max()
# Capomulin, Ramicane, Infubinol, and Ceftamin

# The index of the DataFrame is reset
max_timepoint_per_mouse = max_timepoint_per_mouse.reset_index()

treatment_regimens = ['Capomulin','Ramicane', 'Infubinol', 'Ceftamin']
# Filter the DataFrame so it only contains rows where the "Drug Regimen" is one of the specified elements
final_tumor_volume_df = merged_df[(merged_df['Drug Regimen'].isin(treatment_regimens))]
# Start by getting the last (greatest) timepoint for each mouse


# Merge this group df with the original DataFrame to get the tumor volume at the last timepoint 
# Merge is set to 'inner' so only rows with match mouse ID and timepoints are kept
final_tumor_volume_df = pd.merge(final_tumor_volume_df, max_timepoint_per_mouse, how='inner', on=['Mouse ID', 'Timepoint'])

final_tumor_volume_df.head()


# Put treatments into a list for for loop (and later for plot labels)

# Create empty list to fill with tumor vol data (for plotting)
tumor_volume_data = []

for treatment in treatment_regimens:
    # Select only the ' Tumor Volume" column for rows where the 'Drug Regimen' matches
    tumor_volumes = final_tumor_volume_df.loc[final_tumor_volume_df['Drug Regimen'] == treatment, 'Tumor Volume (mm3)']
    # Append the tumor volume data for the 'treatment' to the list
    tumor_volume_data.append(tumor_volumes)
    
    # Calculate the IQR and quantitatively determine if there are any potential outliers. 
    quartiles = tumor_volumes.quantile([0.25, 0.5, 0.75])
    q1 = quartiles[0.25]
    q3 = quartiles[0.75]
    iqr = q3 - q1

    lower_bound = q1 - (1.5 * iqr)
    upper_bound = q3 + (1.5 * iqr)
    
    # Locate the rows which contain mice on each drug and get the tumor volumes

    
    # add subset 

    
    # Determine outliers using upper and lower bounds
    # The method applied is IQR to determine outliers
    outliers = tumor_volumes.loc[(tumor_volumes < lower_bound) | (tumor_volumes > upper_bound)]

    print(f"{treatment}'s potential outliers:", outliers)
    #print(outliers)


# Generate a box plot that shows the distrubution of the tumor volume for each treatment group.

plt.figure(figsize=(9,6))
# 'flierprops is used to customize the appearance of the outlier(s)
plt.boxplot(tumor_volume_data, labels=treatment_regimens, flierprops=dict(marker='o', markerfacecolor='red', markersize=8))

plt.xlabel("Treatment Specimen")
plt.ylabel("Final Tumor Volume (mm3")

plt.show()





# Generate a line plot of tumor volume vs. time point for a single mouse treated with Capomulin

capomulin_data = merged_df[merged_df['Drug Regimen'] == 'Capomulin']

# mouse_id = capomulin_data['Mouse ID'].iloc[0] <- Question asked for any single mouse but solution indicates for mouse id = l509
mouse_id = 'l509'
single_mouse_data = capomulin_data[capomulin_data['Mouse ID'] == mouse_id]

plt.figure(figsize=(9,6))
plt.plot(single_mouse_data['Timepoint'], single_mouse_data['Tumor Volume (mm3)'])

plt.xlabel("Timepoint (days)")
plt.ylabel("Tumor Volume (mm3)")
plt.title("Capomulin treatment of mouse I509")

plt.show()


# Generate a scatter plot of mouse weight vs. the average observed tumor volume for the entire Capomulin regimen
# Filter only rows where "Drug Regimen" is "Capomulin"
capomulin_data = merged_df[merged_df['Drug Regimen'] == 'Capomulin']

average_tumor_volume = capomulin_data.groupby('Mouse ID')['Tumor Volume (mm3)'].mean()
# Merge the two DataFrame based on 'Mouse ID' (commoun column)
capomulin_metadata = pd.merge(average_tumor_volume, mouse_metadata, on='Mouse ID')

plt.figure(figsize=(9,6))
plt.scatter(capomulin_metadata['Weight (g)'], capomulin_metadata['Tumor Volume (mm3)'], color='blue', alpha=0.75)

plt.xlabel("Weight (g)")
plt.ylabel("Average Tumor Volume (mm3)")

plt.show()





# Calculate the correlation coefficient and a linear regression model 
# for mouse weight and average observed tumor volume for the entire Capomulin regimen

from sklearn.linear_model import LinearRegression

# Calculate the correlation coefficient between mouse weight and average tumor volume
correlation_coefficient, _ = st.pearsonr(capomulin_metadata['Weight (g)'], capomulin_metadata["Tumor Volume (mm3)"])
print(f'The correlation between mouse weight and the average tumor volume is: {correlation_coefficient:.2f}')

# Error message: Reshape your data either using array.reshape(-1, 1) for X
X = capomulin_metadata['Weight (g)'].values.reshape(-1,1)
Y = capomulin_metadata['Tumor Volume (mm3)']

statistical_model = LinearRegression()
statistical_model.fit(X,Y)

plt.figure(figsize=(9,6))
plt.scatter(capomulin_metadata['Weight (g)'], capomulin_metadata['Tumor Volume (mm3)'], color='blue')
# Plot the linear regression line based on the fitted model's prediction
plt.plot(capomulin_metadata['Weight (g)'], statistical_model.predict(X), color='red')

plt.xlabel("Weight (g)")
plt.ylabel("Average Tumor Volume (mm3)")

plt.show()



